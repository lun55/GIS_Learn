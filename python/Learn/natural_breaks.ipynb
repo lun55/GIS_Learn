{
 "cells": [
  {
   "cell_type": "code",
   "execution_count": 2,
   "metadata": {},
   "outputs": [],
   "source": [
    "# code from http://danieljlewis.org/files/2010/06/Jenks.pdf\n",
    "# described at http://danieljlewis.org/2010/06/07/jenks-natural-breaks-algorithm-in-python/\n",
    "\n",
    "def getJenksBreaks( dataList, numClass ):\n",
    "  dataList.sort() # 输入一个列表，首先进行排序\n",
    "  mat1 = []\n",
    "  for i in range(0,len(dataList)+1):\n",
    "    temp = []\n",
    "    for j in range(0,numClass+1):\n",
    "      temp.append(0)\n",
    "    mat1.append(temp)  # ？构建一个内容为0的\n",
    "  mat2 = []\n",
    "  for i in range(0,len(dataList)+1):\n",
    "    temp = []\n",
    "    for j in range(0,numClass+1):\n",
    "      temp.append(0)\n",
    "    mat2.append(temp)\n",
    "  for i in range(1,numClass+1):\n",
    "    mat1[1][i] = 1\n",
    "    mat2[1][i] = 0\n",
    "    for j in range(2,len(dataList)+1):\n",
    "      mat2[j][i] = float('inf')\n",
    "  v = 0.0\n",
    "  for l in range(2,len(dataList)+1):\n",
    "    s1 = 0.0\n",
    "    s2 = 0.0\n",
    "    w = 0.0\n",
    "    for m in range(1,l+1):\n",
    "      i3 = l - m + 1\n",
    "      val = float(dataList[i3-1])\n",
    "      s2 += val * val\n",
    "      s1 += val\n",
    "      w += 1\n",
    "      v = s2 - (s1 * s1) / w\n",
    "      i4 = i3 - 1\n",
    "      if i4 != 0:\n",
    "        for j in range(2,numClass+1):\n",
    "          if mat2[l][j] >= (v + mat2[i4][j - 1]):\n",
    "            mat1[l][j] = i3\n",
    "            mat2[l][j] = v + mat2[i4][j - 1]\n",
    "    mat1[l][1] = 1\n",
    "    mat2[l][1] = v\n",
    "  k = len(dataList)\n",
    "  kclass = []\n",
    "  for i in range(0,numClass+1):\n",
    "    kclass.append(0)\n",
    "  kclass[numClass] = float(dataList[len(dataList) - 1])\n",
    "  countNum = numClass\n",
    "  while countNum >= 2:#print \"rank = \" + str(mat1[k][countNum])\n",
    "    id = int((mat1[k][countNum]) - 2)\n",
    "    #print \"val = \" + str(dataList[id])\n",
    "    kclass[countNum - 1] = dataList[id]\n",
    "    k = int((mat1[k][countNum] - 1))\n",
    "    countNum -= 1\n",
    "  return kclass\n",
    "  \n",
    "def getGVF( dataList, numClass ):\n",
    "  \"\"\"\n",
    "  The Goodness of Variance Fit (GVF) is found by taking the \n",
    "  difference between the squared deviations\n",
    "  from the array mean (SDAM) and the squared deviations from the \n",
    "  class means (SDCM), and dividing by the SDAM\n",
    "  \"\"\"\n",
    "  breaks = getJenksBreaks(dataList, numClass)\n",
    "  dataList.sort()\n",
    "  listMean = sum(dataList)/len(dataList)\n",
    "  print(listMean)\n",
    "  SDAM = 0.0\n",
    "  for i in range(0,len(dataList)):\n",
    "    sqDev = (dataList[i] - listMean)**2\n",
    "    SDAM += sqDev\n",
    "  SDCM = 0.0\n",
    "  for i in range(0,numClass):\n",
    "    if breaks[i] == 0:\n",
    "      classStart = 0\n",
    "    else:\n",
    "      classStart = dataList.index(breaks[i])\n",
    "      classStart += 1\n",
    "    classEnd = dataList.index(breaks[i+1])\n",
    "    classList = dataList[classStart:classEnd+1]\n",
    "    classMean = sum(classList)/len(classList)\n",
    "    print(classMean)\n",
    "    preSDCM = 0.0\n",
    "    for j in range(0,len(classList)):\n",
    "      sqDev2 = (classList[j] - classMean)**2\n",
    "      preSDCM += sqDev2\n",
    "    SDCM += preSDCM\n",
    "  return (SDAM - SDCM)/SDAM\n",
    "  \n",
    "# written by Drew\n",
    "# used after running getJenksBreaks()\n",
    "def classify(value, breaks):\n",
    "  for i in range(1, len(breaks)):\n",
    "    if value < breaks[i]:\n",
    "      return i\n",
    "  return len(breaks) - 1"
   ]
  },
  {
   "cell_type": "code",
   "execution_count": 3,
   "metadata": {},
   "outputs": [
    {
     "data": {
      "text/plain": [
       "[0, 3, 7.0]"
      ]
     },
     "execution_count": 3,
     "metadata": {},
     "output_type": "execute_result"
    }
   ],
   "source": [
    "getJenksBreaks([1,5,3,6,7],2)"
   ]
  }
 ],
 "metadata": {
  "kernelspec": {
   "display_name": "GIS",
   "language": "python",
   "name": "python3"
  },
  "language_info": {
   "codemirror_mode": {
    "name": "ipython",
    "version": 3
   },
   "file_extension": ".py",
   "mimetype": "text/x-python",
   "name": "python",
   "nbconvert_exporter": "python",
   "pygments_lexer": "ipython3",
   "version": "3.10.11"
  }
 },
 "nbformat": 4,
 "nbformat_minor": 2
}
