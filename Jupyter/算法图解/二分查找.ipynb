{
 "cells": [
  {
   "cell_type": "code",
   "execution_count": 32,
   "metadata": {},
   "outputs": [],
   "source": [
    "# 二分算法查找值在列表中的位置\n",
    "def binary_search(bucket,item):\n",
    "    low = 0\n",
    "    high = len(bucket)-1\n",
    "    while low <= high:\n",
    "        mid = int((low+high)/2)\n",
    "        guess = bucket[mid]\n",
    "        if guess == item:\n",
    "            return mid\n",
    "        elif guess > item:\n",
    "            high = mid - 1  # 直接排除mid\n",
    "        else :\n",
    "            low = mid + 1\n",
    "    return None"
   ]
  },
  {
   "cell_type": "code",
   "execution_count": 34,
   "metadata": {},
   "outputs": [
    {
     "name": "stdout",
     "output_type": "stream",
     "text": [
      "32323\n"
     ]
    }
   ],
   "source": [
    "bucket = list(range(1,10000000))\n",
    "# 二分查找要求列表是有序的\n",
    "print(binary_search(bucket,32324))"
   ]
  }
 ],
 "metadata": {
  "kernelspec": {
   "display_name": "GIS",
   "language": "python",
   "name": "python3"
  },
  "language_info": {
   "codemirror_mode": {
    "name": "ipython",
    "version": 3
   },
   "file_extension": ".py",
   "mimetype": "text/x-python",
   "name": "python",
   "nbconvert_exporter": "python",
   "pygments_lexer": "ipython3",
   "version": "3.10.11"
  }
 },
 "nbformat": 4,
 "nbformat_minor": 2
}
