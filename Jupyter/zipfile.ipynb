{
 "cells": [
  {
   "cell_type": "code",
   "execution_count": 1,
   "metadata": {},
   "outputs": [],
   "source": [
    "import os\n",
    "from zipfile import ZipFile"
   ]
  },
  {
   "cell_type": "code",
   "execution_count": 2,
   "metadata": {},
   "outputs": [],
   "source": [
    "# 测试文件夹\n",
    "test_path = r'E:\\Data\\test'\n",
    "# 创建10个文件夹\n",
    "for i in range(10):\n",
    "    if os.path.exists(test_path+f'\\\\A{i}')==False:\n",
    "        os.mkdir(test_path+f'\\\\A{i}')"
   ]
  },
  {
   "cell_type": "code",
   "execution_count": 9,
   "metadata": {},
   "outputs": [
    {
     "name": "stdout",
     "output_type": "stream",
     "text": [
      "E:\\Data\\test ['A0', 'A1', 'A2', 'A3', 'A4', 'A5', 'A6', 'A7', 'A8', 'A9'] []\n",
      "E:\\Data\\test\\A0 [] ['x.txt']\n",
      "E:\\Data\\test\\A1 [] ['x.txt']\n",
      "E:\\Data\\test\\A2 [] ['x.txt']\n",
      "E:\\Data\\test\\A3 [] ['x.txt']\n",
      "E:\\Data\\test\\A4 [] ['x.txt']\n",
      "E:\\Data\\test\\A5 [] ['x.txt']\n",
      "E:\\Data\\test\\A6 [] ['x.txt']\n",
      "E:\\Data\\test\\A7 [] ['x.txt']\n",
      "E:\\Data\\test\\A8 [] ['x.txt']\n",
      "E:\\Data\\test\\A9 [] ['x.txt']\n"
     ]
    }
   ],
   "source": [
    "# 创建一下文件\n",
    "for filedir,subfiledir,files in os.walk(test_path):\n",
    "    # if filedir != test_path:\n",
    "    #     with open(filedir+'\\\\x.txt','w') as f:\n",
    "    #         f.close()\n",
    "    print(filedir,subfiledir,files)"
   ]
  },
  {
   "cell_type": "code",
   "execution_count": 13,
   "metadata": {},
   "outputs": [],
   "source": [
    "# 将文件写入压缩包中\n",
    "with ZipFile(test_path+'.zip','w') as zf:\n",
    "    for filedir,subfiledir,files in os.walk(test_path):\n",
    "        zf.write(filedir)\n",
    "        for file in files:\n",
    "            zf.write(os.path.join(filedir,file)) "
   ]
  },
  {
   "cell_type": "code",
   "execution_count": null,
   "metadata": {},
   "outputs": [],
   "source": []
  }
 ],
 "metadata": {
  "kernelspec": {
   "display_name": "GIS",
   "language": "python",
   "name": "python3"
  },
  "language_info": {
   "codemirror_mode": {
    "name": "ipython",
    "version": 3
   },
   "file_extension": ".py",
   "mimetype": "text/x-python",
   "name": "python",
   "nbconvert_exporter": "python",
   "pygments_lexer": "ipython3",
   "version": "3.10.11"
  }
 },
 "nbformat": 4,
 "nbformat_minor": 2
}
