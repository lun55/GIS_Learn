{
 "cells": [
  {
   "cell_type": "code",
   "execution_count": 190,
   "metadata": {},
   "outputs": [],
   "source": [
    "import pandas as pd\n",
    "import time\n",
    "from matplotlib import pyplot as plt\n",
    "import os\n",
    "import geopandas as gpd\n",
    "import sys\n",
    "sys.path.append(r\"..\\python\")\n",
    "import coordTransform_utils\n",
    "import datetime"
   ]
  },
  {
   "cell_type": "code",
   "execution_count": 191,
   "metadata": {},
   "outputs": [
    {
     "data": {
      "text/plain": [
       "'E:\\\\Data\\\\深圳共享单车\\\\bike1000-2000.csv'"
      ]
     },
     "execution_count": 191,
     "metadata": {},
     "output_type": "execute_result"
    }
   ],
   "source": [
    "bike_path = r\"E:\\Data\\深圳共享单车\"\n",
    "bike_csv_list = [os.path.join(bike_path,bike) for bike in os.listdir(bike_path)]  # 将文件夹中的所有文件保存为完整的路径列表\n",
    "bike_csv_list[1]"
   ]
  },
  {
   "cell_type": "code",
   "execution_count": 192,
   "metadata": {},
   "outputs": [
    {
     "name": "stdout",
     "output_type": "stream",
     "text": [
      "<class 'pandas.core.frame.DataFrame'>\n",
      "RangeIndex: 999000 entries, 0 to 998999\n",
      "Data columns (total 6 columns):\n",
      " #   Column      Non-Null Count   Dtype  \n",
      "---  ------      --------------   -----  \n",
      " 0   START_TIME  999000 non-null  object \n",
      " 1   END_TIME    999000 non-null  object \n",
      " 2   START_LAT   999000 non-null  float64\n",
      " 3   START_LNG   999000 non-null  float64\n",
      " 4   END_LAT     999000 non-null  float64\n",
      " 5   END_LNG     999000 non-null  float64\n",
      "dtypes: float64(4), object(2)\n",
      "memory usage: 45.7+ MB\n"
     ]
    },
    {
     "data": {
      "text/plain": [
       "(           START_LAT      START_LNG        END_LAT        END_LNG\n",
       " count  999000.000000  999000.000000  999000.000000  999000.000000\n",
       " mean       22.586728     113.974207      22.589242     113.997172\n",
       " std         0.445079       1.875573       0.164769       0.760201\n",
       " min         0.000000       0.000000       0.000000       0.000000\n",
       " 25%        22.541569     113.923723      22.541540     113.922739\n",
       " 50%        22.567178     114.030734      22.567344     114.030260\n",
       " 75%        22.633355     114.069340      22.633734     114.069015\n",
       " max        47.660913     132.535877      39.908532     116.397775,\n",
       " None)"
      ]
     },
     "execution_count": 192,
     "metadata": {},
     "output_type": "execute_result"
    }
   ],
   "source": [
    "columns = ['START_TIME','END_TIME','START_LAT','START_LNG','END_LAT','END_LNG']\n",
    "bike0 = pd.read_csv(bike_csv_list[0],usecols=columns)\n",
    "bike0.describe(),bike0.info()"
   ]
  },
  {
   "cell_type": "code",
   "execution_count": 193,
   "metadata": {},
   "outputs": [
    {
     "data": {
      "text/html": [
       "<div>\n",
       "<style scoped>\n",
       "    .dataframe tbody tr th:only-of-type {\n",
       "        vertical-align: middle;\n",
       "    }\n",
       "\n",
       "    .dataframe tbody tr th {\n",
       "        vertical-align: top;\n",
       "    }\n",
       "\n",
       "    .dataframe thead th {\n",
       "        text-align: right;\n",
       "    }\n",
       "</style>\n",
       "<table border=\"1\" class=\"dataframe\">\n",
       "  <thead>\n",
       "    <tr style=\"text-align: right;\">\n",
       "      <th></th>\n",
       "      <th>START_TIME</th>\n",
       "      <th>END_TIME</th>\n",
       "      <th>START_LAT</th>\n",
       "      <th>START_LNG</th>\n",
       "      <th>END_LAT</th>\n",
       "      <th>END_LNG</th>\n",
       "    </tr>\n",
       "  </thead>\n",
       "  <tbody>\n",
       "    <tr>\n",
       "      <th>0</th>\n",
       "      <td>2021-01-30 13:19:32</td>\n",
       "      <td>2021-01-30 13:23:18</td>\n",
       "      <td>22.636409</td>\n",
       "      <td>114.013309</td>\n",
       "      <td>22.632029</td>\n",
       "      <td>114.015535</td>\n",
       "    </tr>\n",
       "    <tr>\n",
       "      <th>1</th>\n",
       "      <td>2021-01-31 23:49:12</td>\n",
       "      <td>2021-01-31 23:54:37</td>\n",
       "      <td>22.585426</td>\n",
       "      <td>113.858985</td>\n",
       "      <td>22.581040</td>\n",
       "      <td>113.857780</td>\n",
       "    </tr>\n",
       "    <tr>\n",
       "      <th>2</th>\n",
       "      <td>2021-01-30 13:09:10</td>\n",
       "      <td>2021-01-30 13:23:24</td>\n",
       "      <td>22.647903</td>\n",
       "      <td>114.027888</td>\n",
       "      <td>22.637769</td>\n",
       "      <td>114.045766</td>\n",
       "    </tr>\n",
       "    <tr>\n",
       "      <th>3</th>\n",
       "      <td>2021-01-30 13:09:47</td>\n",
       "      <td>2021-01-30 13:20:45</td>\n",
       "      <td>22.518310</td>\n",
       "      <td>114.056118</td>\n",
       "      <td>22.520040</td>\n",
       "      <td>114.056252</td>\n",
       "    </tr>\n",
       "    <tr>\n",
       "      <th>4</th>\n",
       "      <td>2021-01-31 23:37:58</td>\n",
       "      <td>2021-01-31 23:59:47</td>\n",
       "      <td>22.544336</td>\n",
       "      <td>114.112874</td>\n",
       "      <td>22.545981</td>\n",
       "      <td>114.136066</td>\n",
       "    </tr>\n",
       "  </tbody>\n",
       "</table>\n",
       "</div>"
      ],
      "text/plain": [
       "            START_TIME             END_TIME  START_LAT   START_LNG    END_LAT  \\\n",
       "0  2021-01-30 13:19:32  2021-01-30 13:23:18  22.636409  114.013309  22.632029   \n",
       "1  2021-01-31 23:49:12  2021-01-31 23:54:37  22.585426  113.858985  22.581040   \n",
       "2  2021-01-30 13:09:10  2021-01-30 13:23:24  22.647903  114.027888  22.637769   \n",
       "3  2021-01-30 13:09:47  2021-01-30 13:20:45  22.518310  114.056118  22.520040   \n",
       "4  2021-01-31 23:37:58  2021-01-31 23:59:47  22.544336  114.112874  22.545981   \n",
       "\n",
       "      END_LNG  \n",
       "0  114.015535  \n",
       "1  113.857780  \n",
       "2  114.045766  \n",
       "3  114.056252  \n",
       "4  114.136066  "
      ]
     },
     "execution_count": 193,
     "metadata": {},
     "output_type": "execute_result"
    }
   ],
   "source": [
    "bike0.head()"
   ]
  },
  {
   "cell_type": "code",
   "execution_count": 194,
   "metadata": {},
   "outputs": [],
   "source": [
    "bike0['START_TIME'] = pd.to_datetime(bike0['START_TIME'])\n",
    "bike0['END_TIME'] = pd.to_datetime(bike0['END_TIME'])"
   ]
  },
  {
   "cell_type": "code",
   "execution_count": 195,
   "metadata": {},
   "outputs": [
    {
     "name": "stdout",
     "output_type": "stream",
     "text": [
      "<class 'pandas.core.frame.DataFrame'>\n",
      "RangeIndex: 998992 entries, 0 to 998991\n",
      "Data columns (total 6 columns):\n",
      " #   Column      Non-Null Count   Dtype         \n",
      "---  ------      --------------   -----         \n",
      " 0   START_TIME  998992 non-null  datetime64[ns]\n",
      " 1   END_TIME    998992 non-null  datetime64[ns]\n",
      " 2   START_LAT   998992 non-null  float64       \n",
      " 3   START_LNG   998992 non-null  float64       \n",
      " 4   END_LAT     998992 non-null  float64       \n",
      " 5   END_LNG     998992 non-null  float64       \n",
      "dtypes: datetime64[ns](2), float64(4)\n",
      "memory usage: 45.7 MB\n"
     ]
    },
    {
     "data": {
      "text/html": [
       "<div>\n",
       "<style scoped>\n",
       "    .dataframe tbody tr th:only-of-type {\n",
       "        vertical-align: middle;\n",
       "    }\n",
       "\n",
       "    .dataframe tbody tr th {\n",
       "        vertical-align: top;\n",
       "    }\n",
       "\n",
       "    .dataframe thead th {\n",
       "        text-align: right;\n",
       "    }\n",
       "</style>\n",
       "<table border=\"1\" class=\"dataframe\">\n",
       "  <thead>\n",
       "    <tr style=\"text-align: right;\">\n",
       "      <th></th>\n",
       "      <th>START_TIME</th>\n",
       "      <th>END_TIME</th>\n",
       "      <th>START_LAT</th>\n",
       "      <th>START_LNG</th>\n",
       "      <th>END_LAT</th>\n",
       "      <th>END_LNG</th>\n",
       "    </tr>\n",
       "  </thead>\n",
       "  <tbody>\n",
       "    <tr>\n",
       "      <th>998987</th>\n",
       "      <td>2021-01-31 18:22:41</td>\n",
       "      <td>2021-01-31 18:53:31</td>\n",
       "      <td>22.555566</td>\n",
       "      <td>114.070105</td>\n",
       "      <td>22.540941</td>\n",
       "      <td>114.100657</td>\n",
       "    </tr>\n",
       "    <tr>\n",
       "      <th>998988</th>\n",
       "      <td>2021-01-31 18:01:58</td>\n",
       "      <td>2021-01-31 18:53:38</td>\n",
       "      <td>22.485901</td>\n",
       "      <td>113.930720</td>\n",
       "      <td>22.493734</td>\n",
       "      <td>113.938758</td>\n",
       "    </tr>\n",
       "    <tr>\n",
       "      <th>998989</th>\n",
       "      <td>2021-02-01 16:10:31</td>\n",
       "      <td>2021-02-01 16:16:22</td>\n",
       "      <td>22.545161</td>\n",
       "      <td>114.076728</td>\n",
       "      <td>22.544314</td>\n",
       "      <td>114.087112</td>\n",
       "    </tr>\n",
       "    <tr>\n",
       "      <th>998990</th>\n",
       "      <td>2021-02-01 19:32:14</td>\n",
       "      <td>2021-02-01 19:43:35</td>\n",
       "      <td>22.603318</td>\n",
       "      <td>114.045247</td>\n",
       "      <td>22.603187</td>\n",
       "      <td>114.038576</td>\n",
       "    </tr>\n",
       "    <tr>\n",
       "      <th>998991</th>\n",
       "      <td>2021-02-01 19:32:14</td>\n",
       "      <td>2021-02-01 19:43:35</td>\n",
       "      <td>22.603371</td>\n",
       "      <td>114.045301</td>\n",
       "      <td>22.603240</td>\n",
       "      <td>114.038630</td>\n",
       "    </tr>\n",
       "  </tbody>\n",
       "</table>\n",
       "</div>"
      ],
      "text/plain": [
       "                START_TIME            END_TIME  START_LAT   START_LNG  \\\n",
       "998987 2021-01-31 18:22:41 2021-01-31 18:53:31  22.555566  114.070105   \n",
       "998988 2021-01-31 18:01:58 2021-01-31 18:53:38  22.485901  113.930720   \n",
       "998989 2021-02-01 16:10:31 2021-02-01 16:16:22  22.545161  114.076728   \n",
       "998990 2021-02-01 19:32:14 2021-02-01 19:43:35  22.603318  114.045247   \n",
       "998991 2021-02-01 19:32:14 2021-02-01 19:43:35  22.603371  114.045301   \n",
       "\n",
       "          END_LAT     END_LNG  \n",
       "998987  22.540941  114.100657  \n",
       "998988  22.493734  113.938758  \n",
       "998989  22.544314  114.087112  \n",
       "998990  22.603187  114.038576  \n",
       "998991  22.603240  114.038630  "
      ]
     },
     "execution_count": 195,
     "metadata": {},
     "output_type": "execute_result"
    }
   ],
   "source": [
    "bike0 = bike0[bike0['END_TIME']>bike0['START_TIME']] # 终止时间必然要晚于起始时间\n",
    "\n",
    "bike0.reset_index(inplace=True,drop=True)\n",
    "# bike0.drop(labels='index')\n",
    "bike0.info()\n",
    "bike0.tail()"
   ]
  },
  {
   "cell_type": "code",
   "execution_count": 196,
   "metadata": {},
   "outputs": [
    {
     "data": {
      "text/plain": [
       "22.57533585"
      ]
     },
     "execution_count": 196,
     "metadata": {},
     "output_type": "execute_result"
    }
   ],
   "source": [
    "bike0['START_LAT'].loc[134372]"
   ]
  },
  {
   "cell_type": "code",
   "execution_count": 197,
   "metadata": {},
   "outputs": [
    {
     "data": {
      "text/html": [
       "<div>\n",
       "<style scoped>\n",
       "    .dataframe tbody tr th:only-of-type {\n",
       "        vertical-align: middle;\n",
       "    }\n",
       "\n",
       "    .dataframe tbody tr th {\n",
       "        vertical-align: top;\n",
       "    }\n",
       "\n",
       "    .dataframe thead th {\n",
       "        text-align: right;\n",
       "    }\n",
       "</style>\n",
       "<table border=\"1\" class=\"dataframe\">\n",
       "  <thead>\n",
       "    <tr style=\"text-align: right;\">\n",
       "      <th></th>\n",
       "      <th>adcode</th>\n",
       "      <th>name</th>\n",
       "      <th>childrenNum</th>\n",
       "      <th>level</th>\n",
       "      <th>parent</th>\n",
       "      <th>subFeatureIndex</th>\n",
       "      <th>geometry</th>\n",
       "    </tr>\n",
       "  </thead>\n",
       "  <tbody>\n",
       "    <tr>\n",
       "      <th>0</th>\n",
       "      <td>440303</td>\n",
       "      <td>罗湖区</td>\n",
       "      <td>0</td>\n",
       "      <td>district</td>\n",
       "      <td>{'adcode': 440300}</td>\n",
       "      <td>0</td>\n",
       "      <td>MULTIPOLYGON (((114.10517 22.53163, 114.10791 ...</td>\n",
       "    </tr>\n",
       "    <tr>\n",
       "      <th>1</th>\n",
       "      <td>440304</td>\n",
       "      <td>福田区</td>\n",
       "      <td>0</td>\n",
       "      <td>district</td>\n",
       "      <td>{'adcode': 440300}</td>\n",
       "      <td>1</td>\n",
       "      <td>MULTIPOLYGON (((114.06630 22.58567, 114.06212 ...</td>\n",
       "    </tr>\n",
       "    <tr>\n",
       "      <th>2</th>\n",
       "      <td>440305</td>\n",
       "      <td>南山区</td>\n",
       "      <td>0</td>\n",
       "      <td>district</td>\n",
       "      <td>{'adcode': 440300}</td>\n",
       "      <td>2</td>\n",
       "      <td>MULTIPOLYGON (((114.02351 22.58165, 114.02394 ...</td>\n",
       "    </tr>\n",
       "    <tr>\n",
       "      <th>3</th>\n",
       "      <td>440306</td>\n",
       "      <td>宝安区</td>\n",
       "      <td>0</td>\n",
       "      <td>district</td>\n",
       "      <td>{'adcode': 440300}</td>\n",
       "      <td>3</td>\n",
       "      <td>MULTIPOLYGON (((113.91096 22.82999, 113.91002 ...</td>\n",
       "    </tr>\n",
       "    <tr>\n",
       "      <th>4</th>\n",
       "      <td>440307</td>\n",
       "      <td>龙岗区</td>\n",
       "      <td>0</td>\n",
       "      <td>district</td>\n",
       "      <td>{'adcode': 440300}</td>\n",
       "      <td>4</td>\n",
       "      <td>MULTIPOLYGON (((114.35578 22.76579, 114.35658 ...</td>\n",
       "    </tr>\n",
       "  </tbody>\n",
       "</table>\n",
       "</div>"
      ],
      "text/plain": [
       "   adcode name  childrenNum     level              parent  subFeatureIndex  \\\n",
       "0  440303  罗湖区            0  district  {'adcode': 440300}                0   \n",
       "1  440304  福田区            0  district  {'adcode': 440300}                1   \n",
       "2  440305  南山区            0  district  {'adcode': 440300}                2   \n",
       "3  440306  宝安区            0  district  {'adcode': 440300}                3   \n",
       "4  440307  龙岗区            0  district  {'adcode': 440300}                4   \n",
       "\n",
       "                                            geometry  \n",
       "0  MULTIPOLYGON (((114.10517 22.53163, 114.10791 ...  \n",
       "1  MULTIPOLYGON (((114.06630 22.58567, 114.06212 ...  \n",
       "2  MULTIPOLYGON (((114.02351 22.58165, 114.02394 ...  \n",
       "3  MULTIPOLYGON (((113.91096 22.82999, 113.91002 ...  \n",
       "4  MULTIPOLYGON (((114.35578 22.76579, 114.35658 ...  "
      ]
     },
     "execution_count": 197,
     "metadata": {},
     "output_type": "execute_result"
    }
   ],
   "source": [
    "# 读取深圳市边界数据\n",
    "sz_boundary = gpd.read_file(r\"E:\\Data\\深圳\\深圳市.json\")\n",
    "sz_boundary.head()"
   ]
  },
  {
   "cell_type": "code",
   "execution_count": 198,
   "metadata": {},
   "outputs": [
    {
     "data": {
      "text/html": [
       "<div>\n",
       "<style scoped>\n",
       "    .dataframe tbody tr th:only-of-type {\n",
       "        vertical-align: middle;\n",
       "    }\n",
       "\n",
       "    .dataframe tbody tr th {\n",
       "        vertical-align: top;\n",
       "    }\n",
       "\n",
       "    .dataframe thead th {\n",
       "        text-align: right;\n",
       "    }\n",
       "</style>\n",
       "<table border=\"1\" class=\"dataframe\">\n",
       "  <thead>\n",
       "    <tr style=\"text-align: right;\">\n",
       "      <th></th>\n",
       "      <th>minx</th>\n",
       "      <th>miny</th>\n",
       "      <th>maxx</th>\n",
       "      <th>maxy</th>\n",
       "    </tr>\n",
       "  </thead>\n",
       "  <tbody>\n",
       "    <tr>\n",
       "      <th>0</th>\n",
       "      <td>114.066304</td>\n",
       "      <td>22.526975</td>\n",
       "      <td>114.219967</td>\n",
       "      <td>22.616190</td>\n",
       "    </tr>\n",
       "    <tr>\n",
       "      <th>1</th>\n",
       "      <td>113.990547</td>\n",
       "      <td>22.499623</td>\n",
       "      <td>114.105173</td>\n",
       "      <td>22.587533</td>\n",
       "    </tr>\n",
       "    <tr>\n",
       "      <th>2</th>\n",
       "      <td>113.786280</td>\n",
       "      <td>22.396343</td>\n",
       "      <td>114.026417</td>\n",
       "      <td>22.652477</td>\n",
       "    </tr>\n",
       "    <tr>\n",
       "      <th>3</th>\n",
       "      <td>113.751453</td>\n",
       "      <td>22.526416</td>\n",
       "      <td>113.980092</td>\n",
       "      <td>22.861749</td>\n",
       "    </tr>\n",
       "    <tr>\n",
       "      <th>4</th>\n",
       "      <td>114.050228</td>\n",
       "      <td>22.438579</td>\n",
       "      <td>114.628466</td>\n",
       "      <td>22.813694</td>\n",
       "    </tr>\n",
       "    <tr>\n",
       "      <th>5</th>\n",
       "      <td>114.202882</td>\n",
       "      <td>22.540044</td>\n",
       "      <td>114.353519</td>\n",
       "      <td>22.653831</td>\n",
       "    </tr>\n",
       "    <tr>\n",
       "      <th>6</th>\n",
       "      <td>113.966630</td>\n",
       "      <td>22.580564</td>\n",
       "      <td>114.113365</td>\n",
       "      <td>22.771820</td>\n",
       "    </tr>\n",
       "    <tr>\n",
       "      <th>7</th>\n",
       "      <td>114.267001</td>\n",
       "      <td>22.622175</td>\n",
       "      <td>114.445344</td>\n",
       "      <td>22.781322</td>\n",
       "    </tr>\n",
       "    <tr>\n",
       "      <th>8</th>\n",
       "      <td>113.857809</td>\n",
       "      <td>22.686218</td>\n",
       "      <td>114.009201</td>\n",
       "      <td>22.832711</td>\n",
       "    </tr>\n",
       "  </tbody>\n",
       "</table>\n",
       "</div>"
      ],
      "text/plain": [
       "         minx       miny        maxx       maxy\n",
       "0  114.066304  22.526975  114.219967  22.616190\n",
       "1  113.990547  22.499623  114.105173  22.587533\n",
       "2  113.786280  22.396343  114.026417  22.652477\n",
       "3  113.751453  22.526416  113.980092  22.861749\n",
       "4  114.050228  22.438579  114.628466  22.813694\n",
       "5  114.202882  22.540044  114.353519  22.653831\n",
       "6  113.966630  22.580564  114.113365  22.771820\n",
       "7  114.267001  22.622175  114.445344  22.781322\n",
       "8  113.857809  22.686218  114.009201  22.832711"
      ]
     },
     "execution_count": 198,
     "metadata": {},
     "output_type": "execute_result"
    }
   ],
   "source": [
    "sz_boundary.bounds"
   ]
  },
  {
   "cell_type": "code",
   "execution_count": 199,
   "metadata": {},
   "outputs": [
    {
     "data": {
      "text/plain": [
       "(22.396343, 113.751453, 22.861749, 114.628466)"
      ]
     },
     "execution_count": 199,
     "metadata": {},
     "output_type": "execute_result"
    }
   ],
   "source": [
    "lat_min = sz_boundary.bounds['miny'].min()\n",
    "lon_min = sz_boundary.bounds['minx'].min()\n",
    "lat_max = sz_boundary.bounds['maxy'].max()\n",
    "lon_max = sz_boundary.bounds['maxx'].max()\n",
    "lat_min,lon_min,lat_max,lon_max  # 深圳市范围 WGS84坐标系"
   ]
  },
  {
   "cell_type": "code",
   "execution_count": 200,
   "metadata": {},
   "outputs": [],
   "source": [
    "def bike_bd2wgs84(df,lat_col,lon_col):\n",
    "    lat_list = []\n",
    "    lon_list = []\n",
    "    for i in range(len(df)):\n",
    "        lat = df[lat_col].loc[i]\n",
    "        lon = df[lon_col].loc[i]\n",
    "        lon_list.append(coordTransform_utils.bd09_to_wgs84(lon,lat)[0]) \n",
    "        lat_list.append(coordTransform_utils.bd09_to_wgs84(lon,lat)[1])\n",
    "    return  lon_list,lat_list"
   ]
  },
  {
   "cell_type": "code",
   "execution_count": 201,
   "metadata": {},
   "outputs": [],
   "source": [
    "# 数据类型转为浮点型\n",
    "bike0['START_LAT'] = bike0['START_LAT'].astype('Float32')\n",
    "bike0['START_LNG'] = bike0['START_LNG'].astype('Float32')\n",
    "bike0['END_LAT'] = bike0['END_LAT'].astype('Float32')\n",
    "bike0['END_LNG'] = bike0['END_LNG'].astype('Float32')"
   ]
  },
  {
   "cell_type": "code",
   "execution_count": 202,
   "metadata": {},
   "outputs": [
    {
     "data": {
      "text/html": [
       "<div>\n",
       "<style scoped>\n",
       "    .dataframe tbody tr th:only-of-type {\n",
       "        vertical-align: middle;\n",
       "    }\n",
       "\n",
       "    .dataframe tbody tr th {\n",
       "        vertical-align: top;\n",
       "    }\n",
       "\n",
       "    .dataframe thead th {\n",
       "        text-align: right;\n",
       "    }\n",
       "</style>\n",
       "<table border=\"1\" class=\"dataframe\">\n",
       "  <thead>\n",
       "    <tr style=\"text-align: right;\">\n",
       "      <th></th>\n",
       "      <th>START_TIME</th>\n",
       "      <th>END_TIME</th>\n",
       "      <th>START_LAT</th>\n",
       "      <th>START_LNG</th>\n",
       "      <th>END_LAT</th>\n",
       "      <th>END_LNG</th>\n",
       "    </tr>\n",
       "  </thead>\n",
       "  <tbody>\n",
       "    <tr>\n",
       "      <th>0</th>\n",
       "      <td>2021-01-30 13:19:32</td>\n",
       "      <td>2021-01-30 13:23:18</td>\n",
       "      <td>22.63641</td>\n",
       "      <td>114.013306</td>\n",
       "      <td>22.632029</td>\n",
       "      <td>114.015533</td>\n",
       "    </tr>\n",
       "    <tr>\n",
       "      <th>1</th>\n",
       "      <td>2021-01-31 23:49:12</td>\n",
       "      <td>2021-01-31 23:54:37</td>\n",
       "      <td>22.585426</td>\n",
       "      <td>113.858986</td>\n",
       "      <td>22.581039</td>\n",
       "      <td>113.85778</td>\n",
       "    </tr>\n",
       "    <tr>\n",
       "      <th>2</th>\n",
       "      <td>2021-01-30 13:09:10</td>\n",
       "      <td>2021-01-30 13:23:24</td>\n",
       "      <td>22.647903</td>\n",
       "      <td>114.027885</td>\n",
       "      <td>22.637768</td>\n",
       "      <td>114.045769</td>\n",
       "    </tr>\n",
       "    <tr>\n",
       "      <th>3</th>\n",
       "      <td>2021-01-30 13:09:47</td>\n",
       "      <td>2021-01-30 13:20:45</td>\n",
       "      <td>22.518311</td>\n",
       "      <td>114.056114</td>\n",
       "      <td>22.520041</td>\n",
       "      <td>114.056252</td>\n",
       "    </tr>\n",
       "    <tr>\n",
       "      <th>4</th>\n",
       "      <td>2021-01-31 23:37:58</td>\n",
       "      <td>2021-01-31 23:59:47</td>\n",
       "      <td>22.544336</td>\n",
       "      <td>114.112877</td>\n",
       "      <td>22.54598</td>\n",
       "      <td>114.136063</td>\n",
       "    </tr>\n",
       "  </tbody>\n",
       "</table>\n",
       "</div>"
      ],
      "text/plain": [
       "           START_TIME            END_TIME  START_LAT   START_LNG    END_LAT  \\\n",
       "0 2021-01-30 13:19:32 2021-01-30 13:23:18   22.63641  114.013306  22.632029   \n",
       "1 2021-01-31 23:49:12 2021-01-31 23:54:37  22.585426  113.858986  22.581039   \n",
       "2 2021-01-30 13:09:10 2021-01-30 13:23:24  22.647903  114.027885  22.637768   \n",
       "3 2021-01-30 13:09:47 2021-01-30 13:20:45  22.518311  114.056114  22.520041   \n",
       "4 2021-01-31 23:37:58 2021-01-31 23:59:47  22.544336  114.112877   22.54598   \n",
       "\n",
       "      END_LNG  \n",
       "0  114.015533  \n",
       "1   113.85778  \n",
       "2  114.045769  \n",
       "3  114.056252  \n",
       "4  114.136063  "
      ]
     },
     "execution_count": 202,
     "metadata": {},
     "output_type": "execute_result"
    }
   ],
   "source": [
    "bike0.head()"
   ]
  },
  {
   "cell_type": "code",
   "execution_count": 203,
   "metadata": {},
   "outputs": [],
   "source": [
    "lon,lat = bike_bd2wgs84(bike0,lat_col='START_LAT',lon_col='START_LNG')"
   ]
  },
  {
   "cell_type": "code",
   "execution_count": 204,
   "metadata": {},
   "outputs": [],
   "source": [
    "bike0['START_LAT'] = lat\n",
    "bike0['START_LNG'] = lon"
   ]
  },
  {
   "cell_type": "code",
   "execution_count": 205,
   "metadata": {},
   "outputs": [],
   "source": [
    "lon,lat = bike_bd2wgs84(bike0,lat_col='END_LAT',lon_col='END_LNG')\n",
    "bike0['END_LAT'] = lat\n",
    "bike0['END_LNG'] = lon"
   ]
  },
  {
   "cell_type": "code",
   "execution_count": 206,
   "metadata": {},
   "outputs": [
    {
     "data": {
      "text/html": [
       "<div>\n",
       "<style scoped>\n",
       "    .dataframe tbody tr th:only-of-type {\n",
       "        vertical-align: middle;\n",
       "    }\n",
       "\n",
       "    .dataframe tbody tr th {\n",
       "        vertical-align: top;\n",
       "    }\n",
       "\n",
       "    .dataframe thead th {\n",
       "        text-align: right;\n",
       "    }\n",
       "</style>\n",
       "<table border=\"1\" class=\"dataframe\">\n",
       "  <thead>\n",
       "    <tr style=\"text-align: right;\">\n",
       "      <th></th>\n",
       "      <th>START_TIME</th>\n",
       "      <th>END_TIME</th>\n",
       "      <th>START_LAT</th>\n",
       "      <th>START_LNG</th>\n",
       "      <th>END_LAT</th>\n",
       "      <th>END_LNG</th>\n",
       "    </tr>\n",
       "  </thead>\n",
       "  <tbody>\n",
       "    <tr>\n",
       "      <th>0</th>\n",
       "      <td>2021-01-30 13:19:32</td>\n",
       "      <td>2021-01-30 13:23:18</td>\n",
       "      <td>22.632927</td>\n",
       "      <td>114.001862</td>\n",
       "      <td>22.628555</td>\n",
       "      <td>114.004077</td>\n",
       "    </tr>\n",
       "    <tr>\n",
       "      <th>1</th>\n",
       "      <td>2021-01-31 23:49:12</td>\n",
       "      <td>2021-01-31 23:54:37</td>\n",
       "      <td>22.582382</td>\n",
       "      <td>113.847527</td>\n",
       "      <td>22.578016</td>\n",
       "      <td>113.846317</td>\n",
       "    </tr>\n",
       "    <tr>\n",
       "      <th>2</th>\n",
       "      <td>2021-01-30 13:09:10</td>\n",
       "      <td>2021-01-30 13:23:24</td>\n",
       "      <td>22.644549</td>\n",
       "      <td>114.016379</td>\n",
       "      <td>22.634675</td>\n",
       "      <td>114.034157</td>\n",
       "    </tr>\n",
       "    <tr>\n",
       "      <th>3</th>\n",
       "      <td>2021-01-30 13:09:47</td>\n",
       "      <td>2021-01-30 13:20:45</td>\n",
       "      <td>22.515340</td>\n",
       "      <td>114.044467</td>\n",
       "      <td>22.517071</td>\n",
       "      <td>114.044605</td>\n",
       "    </tr>\n",
       "    <tr>\n",
       "      <th>4</th>\n",
       "      <td>2021-01-31 23:37:58</td>\n",
       "      <td>2021-01-31 23:59:47</td>\n",
       "      <td>22.540764</td>\n",
       "      <td>114.101330</td>\n",
       "      <td>22.542385</td>\n",
       "      <td>114.124560</td>\n",
       "    </tr>\n",
       "  </tbody>\n",
       "</table>\n",
       "</div>"
      ],
      "text/plain": [
       "           START_TIME            END_TIME  START_LAT   START_LNG    END_LAT  \\\n",
       "0 2021-01-30 13:19:32 2021-01-30 13:23:18  22.632927  114.001862  22.628555   \n",
       "1 2021-01-31 23:49:12 2021-01-31 23:54:37  22.582382  113.847527  22.578016   \n",
       "2 2021-01-30 13:09:10 2021-01-30 13:23:24  22.644549  114.016379  22.634675   \n",
       "3 2021-01-30 13:09:47 2021-01-30 13:20:45  22.515340  114.044467  22.517071   \n",
       "4 2021-01-31 23:37:58 2021-01-31 23:59:47  22.540764  114.101330  22.542385   \n",
       "\n",
       "      END_LNG  \n",
       "0  114.004077  \n",
       "1  113.846317  \n",
       "2  114.034157  \n",
       "3  114.044605  \n",
       "4  114.124560  "
      ]
     },
     "execution_count": 206,
     "metadata": {},
     "output_type": "execute_result"
    }
   ],
   "source": [
    "bike0.head()"
   ]
  },
  {
   "cell_type": "code",
   "execution_count": 207,
   "metadata": {},
   "outputs": [],
   "source": [
    "bike0 = bike0[(bike0['START_LAT'] < lat_max) & (bike0['START_LAT'] > lat_min) & \n",
    "              (bike0['START_LNG'] < lon_max) & (bike0['START_LNG'] > lon_min) &\n",
    "              (bike0['END_LAT'] < lat_max) & (bike0['END_LAT'] > lat_min) &\n",
    "              (bike0['END_LNG'] < lon_max) & (bike0['END_LNG'] > lon_min)]"
   ]
  },
  {
   "cell_type": "code",
   "execution_count": 208,
   "metadata": {},
   "outputs": [
    {
     "name": "stdout",
     "output_type": "stream",
     "text": [
      "<class 'pandas.core.frame.DataFrame'>\n",
      "Index: 998300 entries, 0 to 998991\n",
      "Data columns (total 6 columns):\n",
      " #   Column      Non-Null Count   Dtype         \n",
      "---  ------      --------------   -----         \n",
      " 0   START_TIME  998300 non-null  datetime64[ns]\n",
      " 1   END_TIME    998300 non-null  datetime64[ns]\n",
      " 2   START_LAT   998300 non-null  float64       \n",
      " 3   START_LNG   998300 non-null  float64       \n",
      " 4   END_LAT     998300 non-null  float64       \n",
      " 5   END_LNG     998300 non-null  float64       \n",
      "dtypes: datetime64[ns](2), float64(4)\n",
      "memory usage: 53.3 MB\n"
     ]
    },
    {
     "data": {
      "text/plain": [
       "(           START_TIME            END_TIME  START_LAT   START_LNG    END_LAT  \\\n",
       " 0 2021-01-30 13:19:32 2021-01-30 13:23:18  22.632927  114.001862  22.628555   \n",
       " 1 2021-01-31 23:49:12 2021-01-31 23:54:37  22.582382  113.847527  22.578016   \n",
       " 2 2021-01-30 13:09:10 2021-01-30 13:23:24  22.644549  114.016379  22.634675   \n",
       " 3 2021-01-30 13:09:47 2021-01-30 13:20:45  22.515340  114.044467  22.517071   \n",
       " 4 2021-01-31 23:37:58 2021-01-31 23:59:47  22.540764  114.101330  22.542385   \n",
       " \n",
       "       END_LNG  \n",
       " 0  114.004077  \n",
       " 1  113.846317  \n",
       " 2  114.034157  \n",
       " 3  114.044605  \n",
       " 4  114.124560  ,\n",
       " None)"
      ]
     },
     "execution_count": 208,
     "metadata": {},
     "output_type": "execute_result"
    }
   ],
   "source": [
    "bike0.head(),bike0.info()"
   ]
  },
  {
   "cell_type": "code",
   "execution_count": 209,
   "metadata": {},
   "outputs": [],
   "source": [
    "bike0.reset_index(drop=True,inplace=True)"
   ]
  },
  {
   "cell_type": "code",
   "execution_count": 210,
   "metadata": {},
   "outputs": [
    {
     "data": {
      "text/html": [
       "<div>\n",
       "<style scoped>\n",
       "    .dataframe tbody tr th:only-of-type {\n",
       "        vertical-align: middle;\n",
       "    }\n",
       "\n",
       "    .dataframe tbody tr th {\n",
       "        vertical-align: top;\n",
       "    }\n",
       "\n",
       "    .dataframe thead th {\n",
       "        text-align: right;\n",
       "    }\n",
       "</style>\n",
       "<table border=\"1\" class=\"dataframe\">\n",
       "  <thead>\n",
       "    <tr style=\"text-align: right;\">\n",
       "      <th></th>\n",
       "      <th>START_TIME</th>\n",
       "      <th>END_TIME</th>\n",
       "      <th>START_LAT</th>\n",
       "      <th>START_LNG</th>\n",
       "      <th>END_LAT</th>\n",
       "      <th>END_LNG</th>\n",
       "      <th>START_DAY</th>\n",
       "      <th>END_DAY</th>\n",
       "    </tr>\n",
       "  </thead>\n",
       "  <tbody>\n",
       "    <tr>\n",
       "      <th>0</th>\n",
       "      <td>2021-01-30 13:19:32</td>\n",
       "      <td>2021-01-30 13:23:18</td>\n",
       "      <td>22.632927</td>\n",
       "      <td>114.001862</td>\n",
       "      <td>22.628555</td>\n",
       "      <td>114.004077</td>\n",
       "      <td>2021-01-30</td>\n",
       "      <td>2021-01-30</td>\n",
       "    </tr>\n",
       "    <tr>\n",
       "      <th>1</th>\n",
       "      <td>2021-01-31 23:49:12</td>\n",
       "      <td>2021-01-31 23:54:37</td>\n",
       "      <td>22.582382</td>\n",
       "      <td>113.847527</td>\n",
       "      <td>22.578016</td>\n",
       "      <td>113.846317</td>\n",
       "      <td>2021-01-31</td>\n",
       "      <td>2021-01-31</td>\n",
       "    </tr>\n",
       "    <tr>\n",
       "      <th>2</th>\n",
       "      <td>2021-01-30 13:09:10</td>\n",
       "      <td>2021-01-30 13:23:24</td>\n",
       "      <td>22.644549</td>\n",
       "      <td>114.016379</td>\n",
       "      <td>22.634675</td>\n",
       "      <td>114.034157</td>\n",
       "      <td>2021-01-30</td>\n",
       "      <td>2021-01-30</td>\n",
       "    </tr>\n",
       "    <tr>\n",
       "      <th>3</th>\n",
       "      <td>2021-01-30 13:09:47</td>\n",
       "      <td>2021-01-30 13:20:45</td>\n",
       "      <td>22.515340</td>\n",
       "      <td>114.044467</td>\n",
       "      <td>22.517071</td>\n",
       "      <td>114.044605</td>\n",
       "      <td>2021-01-30</td>\n",
       "      <td>2021-01-30</td>\n",
       "    </tr>\n",
       "    <tr>\n",
       "      <th>4</th>\n",
       "      <td>2021-01-31 23:37:58</td>\n",
       "      <td>2021-01-31 23:59:47</td>\n",
       "      <td>22.540764</td>\n",
       "      <td>114.101330</td>\n",
       "      <td>22.542385</td>\n",
       "      <td>114.124560</td>\n",
       "      <td>2021-01-31</td>\n",
       "      <td>2021-01-31</td>\n",
       "    </tr>\n",
       "  </tbody>\n",
       "</table>\n",
       "</div>"
      ],
      "text/plain": [
       "           START_TIME            END_TIME  START_LAT   START_LNG    END_LAT  \\\n",
       "0 2021-01-30 13:19:32 2021-01-30 13:23:18  22.632927  114.001862  22.628555   \n",
       "1 2021-01-31 23:49:12 2021-01-31 23:54:37  22.582382  113.847527  22.578016   \n",
       "2 2021-01-30 13:09:10 2021-01-30 13:23:24  22.644549  114.016379  22.634675   \n",
       "3 2021-01-30 13:09:47 2021-01-30 13:20:45  22.515340  114.044467  22.517071   \n",
       "4 2021-01-31 23:37:58 2021-01-31 23:59:47  22.540764  114.101330  22.542385   \n",
       "\n",
       "      END_LNG   START_DAY     END_DAY  \n",
       "0  114.004077  2021-01-30  2021-01-30  \n",
       "1  113.846317  2021-01-31  2021-01-31  \n",
       "2  114.034157  2021-01-30  2021-01-30  \n",
       "3  114.044605  2021-01-30  2021-01-30  \n",
       "4  114.124560  2021-01-31  2021-01-31  "
      ]
     },
     "execution_count": 210,
     "metadata": {},
     "output_type": "execute_result"
    }
   ],
   "source": [
    "bike0['START_DAY'] = bike0['START_TIME'].dt.date\n",
    "bike0['END_DAY'] = bike0['END_TIME'].dt.date\n",
    "bike0.head()"
   ]
  },
  {
   "cell_type": "code",
   "execution_count": null,
   "metadata": {},
   "outputs": [],
   "source": []
  },
  {
   "cell_type": "code",
   "execution_count": 211,
   "metadata": {},
   "outputs": [
    {
     "data": {
      "text/html": [
       "<div>\n",
       "<style scoped>\n",
       "    .dataframe tbody tr th:only-of-type {\n",
       "        vertical-align: middle;\n",
       "    }\n",
       "\n",
       "    .dataframe tbody tr th {\n",
       "        vertical-align: top;\n",
       "    }\n",
       "\n",
       "    .dataframe thead th {\n",
       "        text-align: right;\n",
       "    }\n",
       "</style>\n",
       "<table border=\"1\" class=\"dataframe\">\n",
       "  <thead>\n",
       "    <tr style=\"text-align: right;\">\n",
       "      <th></th>\n",
       "      <th>START_TIME</th>\n",
       "      <th>END_TIME</th>\n",
       "      <th>START_LAT</th>\n",
       "      <th>START_LNG</th>\n",
       "      <th>END_LAT</th>\n",
       "      <th>END_LNG</th>\n",
       "      <th>START_DAY</th>\n",
       "      <th>END_DAY</th>\n",
       "      <th>during</th>\n",
       "    </tr>\n",
       "  </thead>\n",
       "  <tbody>\n",
       "    <tr>\n",
       "      <th>0</th>\n",
       "      <td>2021-01-30 13:19:32</td>\n",
       "      <td>2021-01-30 13:23:18</td>\n",
       "      <td>22.632927</td>\n",
       "      <td>114.001862</td>\n",
       "      <td>22.628555</td>\n",
       "      <td>114.004077</td>\n",
       "      <td>2021-01-30</td>\n",
       "      <td>2021-01-30</td>\n",
       "      <td>0 days 00:03:46</td>\n",
       "    </tr>\n",
       "    <tr>\n",
       "      <th>1</th>\n",
       "      <td>2021-01-31 23:49:12</td>\n",
       "      <td>2021-01-31 23:54:37</td>\n",
       "      <td>22.582382</td>\n",
       "      <td>113.847527</td>\n",
       "      <td>22.578016</td>\n",
       "      <td>113.846317</td>\n",
       "      <td>2021-01-31</td>\n",
       "      <td>2021-01-31</td>\n",
       "      <td>0 days 00:05:25</td>\n",
       "    </tr>\n",
       "    <tr>\n",
       "      <th>2</th>\n",
       "      <td>2021-01-30 13:09:10</td>\n",
       "      <td>2021-01-30 13:23:24</td>\n",
       "      <td>22.644549</td>\n",
       "      <td>114.016379</td>\n",
       "      <td>22.634675</td>\n",
       "      <td>114.034157</td>\n",
       "      <td>2021-01-30</td>\n",
       "      <td>2021-01-30</td>\n",
       "      <td>0 days 00:14:14</td>\n",
       "    </tr>\n",
       "    <tr>\n",
       "      <th>3</th>\n",
       "      <td>2021-01-30 13:09:47</td>\n",
       "      <td>2021-01-30 13:20:45</td>\n",
       "      <td>22.515340</td>\n",
       "      <td>114.044467</td>\n",
       "      <td>22.517071</td>\n",
       "      <td>114.044605</td>\n",
       "      <td>2021-01-30</td>\n",
       "      <td>2021-01-30</td>\n",
       "      <td>0 days 00:10:58</td>\n",
       "    </tr>\n",
       "    <tr>\n",
       "      <th>4</th>\n",
       "      <td>2021-01-31 23:37:58</td>\n",
       "      <td>2021-01-31 23:59:47</td>\n",
       "      <td>22.540764</td>\n",
       "      <td>114.101330</td>\n",
       "      <td>22.542385</td>\n",
       "      <td>114.124560</td>\n",
       "      <td>2021-01-31</td>\n",
       "      <td>2021-01-31</td>\n",
       "      <td>0 days 00:21:49</td>\n",
       "    </tr>\n",
       "  </tbody>\n",
       "</table>\n",
       "</div>"
      ],
      "text/plain": [
       "           START_TIME            END_TIME  START_LAT   START_LNG    END_LAT  \\\n",
       "0 2021-01-30 13:19:32 2021-01-30 13:23:18  22.632927  114.001862  22.628555   \n",
       "1 2021-01-31 23:49:12 2021-01-31 23:54:37  22.582382  113.847527  22.578016   \n",
       "2 2021-01-30 13:09:10 2021-01-30 13:23:24  22.644549  114.016379  22.634675   \n",
       "3 2021-01-30 13:09:47 2021-01-30 13:20:45  22.515340  114.044467  22.517071   \n",
       "4 2021-01-31 23:37:58 2021-01-31 23:59:47  22.540764  114.101330  22.542385   \n",
       "\n",
       "      END_LNG   START_DAY     END_DAY          during  \n",
       "0  114.004077  2021-01-30  2021-01-30 0 days 00:03:46  \n",
       "1  113.846317  2021-01-31  2021-01-31 0 days 00:05:25  \n",
       "2  114.034157  2021-01-30  2021-01-30 0 days 00:14:14  \n",
       "3  114.044605  2021-01-30  2021-01-30 0 days 00:10:58  \n",
       "4  114.124560  2021-01-31  2021-01-31 0 days 00:21:49  "
      ]
     },
     "execution_count": 211,
     "metadata": {},
     "output_type": "execute_result"
    }
   ],
   "source": [
    "bike0['during'] = bike0['END_TIME']-bike0['START_TIME']\n",
    "bike0.head()"
   ]
  },
  {
   "cell_type": "code",
   "execution_count": 212,
   "metadata": {},
   "outputs": [
    {
     "name": "stdout",
     "output_type": "stream",
     "text": [
      "<class 'pandas.core.frame.DataFrame'>\n",
      "RangeIndex: 998300 entries, 0 to 998299\n",
      "Data columns (total 9 columns):\n",
      " #   Column      Non-Null Count   Dtype          \n",
      "---  ------      --------------   -----          \n",
      " 0   START_TIME  998300 non-null  datetime64[ns] \n",
      " 1   END_TIME    998300 non-null  datetime64[ns] \n",
      " 2   START_LAT   998300 non-null  float64        \n",
      " 3   START_LNG   998300 non-null  float64        \n",
      " 4   END_LAT     998300 non-null  float64        \n",
      " 5   END_LNG     998300 non-null  float64        \n",
      " 6   START_DAY   998300 non-null  object         \n",
      " 7   END_DAY     998300 non-null  object         \n",
      " 8   during      998300 non-null  timedelta64[ns]\n",
      "dtypes: datetime64[ns](2), float64(4), object(2), timedelta64[ns](1)\n",
      "memory usage: 68.5+ MB\n"
     ]
    }
   ],
   "source": [
    "bike0.info()"
   ]
  },
  {
   "cell_type": "code",
   "execution_count": 213,
   "metadata": {},
   "outputs": [],
   "source": [
    "bike0['during'] =  bike0['during'].dt.total_seconds()"
   ]
  },
  {
   "cell_type": "code",
   "execution_count": 214,
   "metadata": {},
   "outputs": [
    {
     "data": {
      "text/plain": [
       "21402.0"
      ]
     },
     "execution_count": 214,
     "metadata": {},
     "output_type": "execute_result"
    }
   ],
   "source": [
    "bike0['during'].max()"
   ]
  },
  {
   "cell_type": "code",
   "execution_count": 215,
   "metadata": {},
   "outputs": [
    {
     "data": {
      "text/plain": [
       "182184    8777.0\n",
       "813011    8778.0\n",
       "76261     8779.0\n",
       "127750    8783.0\n",
       "714896    8785.0\n",
       "764742    8787.0\n",
       "763924    8789.0\n",
       "660384    8789.0\n",
       "210957    8793.0\n",
       "791133    8795.0\n",
       "623590    8804.0\n",
       "634103    8806.0\n",
       "533031    8810.0\n",
       "938423    8813.0\n",
       "938419    8813.0\n",
       "814099    8819.0\n",
       "878822    8820.0\n",
       "595719    8821.0\n",
       "613017    8824.0\n",
       "781315    8828.0\n",
       "Name: during, dtype: float64"
      ]
     },
     "execution_count": 215,
     "metadata": {},
     "output_type": "execute_result"
    }
   ],
   "source": [
    "num = int(0.999*len(bike0))\n",
    "bike0['during'].sort_values(ascending=True).iloc[:num].tail(20)"
   ]
  },
  {
   "cell_type": "code",
   "execution_count": 216,
   "metadata": {},
   "outputs": [
    {
     "data": {
      "text/plain": [
       "638396    14400.0\n",
       "139791    14400.0\n",
       "44983     14400.0\n",
       "783620    14400.0\n",
       "646116    14400.0\n",
       "25431     14400.0\n",
       "613608    14400.0\n",
       "572330    14400.0\n",
       "622065    14400.0\n",
       "92314     14400.0\n",
       "111272    14400.0\n",
       "522966    14400.0\n",
       "636482    14400.0\n",
       "668728    14400.0\n",
       "33840     14400.0\n",
       "796403    14410.0\n",
       "740095    14410.0\n",
       "963190    14464.0\n",
       "549096    15454.0\n",
       "426870    21402.0\n",
       "Name: during, dtype: float64"
      ]
     },
     "execution_count": 216,
     "metadata": {},
     "output_type": "execute_result"
    }
   ],
   "source": [
    "bike0['during'].sort_values(ascending=True).iloc[num:].tail(20)"
   ]
  },
  {
   "cell_type": "code",
   "execution_count": 217,
   "metadata": {},
   "outputs": [
    {
     "data": {
      "text/plain": [
       "21402.0"
      ]
     },
     "execution_count": 217,
     "metadata": {},
     "output_type": "execute_result"
    }
   ],
   "source": [
    "bike0['during'].max()"
   ]
  },
  {
   "cell_type": "code",
   "execution_count": 218,
   "metadata": {},
   "outputs": [
    {
     "data": {
      "image/png": "[encoded data removed]",
      "text/plain": [
       "<Figure size 640x480 with 1 Axes>"
      ]
     },
     "metadata": {},
     "output_type": "display_data"
    }
   ],
   "source": [
    "plt.hist(bike0['during'], bins = 100)  # pd.Series.dt属性 histogam直方图\n",
    "plt.show()"
   ]
  },
  {
   "cell_type": "code",
   "execution_count": 219,
   "metadata": {},
   "outputs": [],
   "source": [
    "bike0 = bike0[bike0['during']<9000]"
   ]
  },
  {
   "cell_type": "code",
   "execution_count": 220,
   "metadata": {},
   "outputs": [],
   "source": [
    "bike0 = bike0[bike0['START_TIME']>=datetime.datetime(year=2021,month=1,day=30)]"
   ]
  },
  {
   "cell_type": "code",
   "execution_count": 221,
   "metadata": {},
   "outputs": [
    {
     "data": {
      "text/html": [
       "<div>\n",
       "<style scoped>\n",
       "    .dataframe tbody tr th:only-of-type {\n",
       "        vertical-align: middle;\n",
       "    }\n",
       "\n",
       "    .dataframe tbody tr th {\n",
       "        vertical-align: top;\n",
       "    }\n",
       "\n",
       "    .dataframe thead th {\n",
       "        text-align: right;\n",
       "    }\n",
       "</style>\n",
       "<table border=\"1\" class=\"dataframe\">\n",
       "  <thead>\n",
       "    <tr style=\"text-align: right;\">\n",
       "      <th></th>\n",
       "      <th>START_TIME</th>\n",
       "      <th>END_TIME</th>\n",
       "      <th>START_LAT</th>\n",
       "      <th>START_LNG</th>\n",
       "      <th>END_LAT</th>\n",
       "      <th>END_LNG</th>\n",
       "      <th>during</th>\n",
       "    </tr>\n",
       "  </thead>\n",
       "  <tbody>\n",
       "    <tr>\n",
       "      <th>count</th>\n",
       "      <td>993653</td>\n",
       "      <td>993653</td>\n",
       "      <td>993653.000000</td>\n",
       "      <td>993653.000000</td>\n",
       "      <td>993653.000000</td>\n",
       "      <td>993653.000000</td>\n",
       "      <td>993653.000000</td>\n",
       "    </tr>\n",
       "    <tr>\n",
       "      <th>mean</th>\n",
       "      <td>2021-02-01 00:12:24.415151360</td>\n",
       "      <td>2021-02-01 00:23:26.863159296</td>\n",
       "      <td>22.586780</td>\n",
       "      <td>113.991960</td>\n",
       "      <td>22.587127</td>\n",
       "      <td>113.990852</td>\n",
       "      <td>662.448009</td>\n",
       "    </tr>\n",
       "    <tr>\n",
       "      <th>min</th>\n",
       "      <td>2021-01-30 00:31:54</td>\n",
       "      <td>2021-01-30 00:50:30</td>\n",
       "      <td>22.419355</td>\n",
       "      <td>113.752173</td>\n",
       "      <td>22.422883</td>\n",
       "      <td>113.757401</td>\n",
       "      <td>1.000000</td>\n",
       "    </tr>\n",
       "    <tr>\n",
       "      <th>25%</th>\n",
       "      <td>2021-01-31 13:53:01</td>\n",
       "      <td>2021-01-31 14:04:22</td>\n",
       "      <td>22.538336</td>\n",
       "      <td>113.912332</td>\n",
       "      <td>22.538296</td>\n",
       "      <td>113.911337</td>\n",
       "      <td>296.000000</td>\n",
       "    </tr>\n",
       "    <tr>\n",
       "      <th>50%</th>\n",
       "      <td>2021-02-01 07:58:59</td>\n",
       "      <td>2021-02-01 08:08:18</td>\n",
       "      <td>22.563975</td>\n",
       "      <td>114.019187</td>\n",
       "      <td>22.564103</td>\n",
       "      <td>114.018763</td>\n",
       "      <td>474.000000</td>\n",
       "    </tr>\n",
       "    <tr>\n",
       "      <th>75%</th>\n",
       "      <td>2021-02-01 12:59:46</td>\n",
       "      <td>2021-02-01 13:10:30</td>\n",
       "      <td>22.630253</td>\n",
       "      <td>114.057591</td>\n",
       "      <td>22.630617</td>\n",
       "      <td>114.057327</td>\n",
       "      <td>775.000000</td>\n",
       "    </tr>\n",
       "    <tr>\n",
       "      <th>max</th>\n",
       "      <td>2021-02-01 19:43:27</td>\n",
       "      <td>2021-02-01 19:44:02</td>\n",
       "      <td>22.833852</td>\n",
       "      <td>114.466670</td>\n",
       "      <td>22.834831</td>\n",
       "      <td>114.466892</td>\n",
       "      <td>8998.000000</td>\n",
       "    </tr>\n",
       "    <tr>\n",
       "      <th>std</th>\n",
       "      <td>NaN</td>\n",
       "      <td>NaN</td>\n",
       "      <td>0.066907</td>\n",
       "      <td>0.100799</td>\n",
       "      <td>0.067394</td>\n",
       "      <td>0.101450</td>\n",
       "      <td>700.539822</td>\n",
       "    </tr>\n",
       "  </tbody>\n",
       "</table>\n",
       "</div>"
      ],
      "text/plain": [
       "                          START_TIME                       END_TIME  \\\n",
       "count                         993653                         993653   \n",
       "mean   2021-02-01 00:12:24.415151360  2021-02-01 00:23:26.863159296   \n",
       "min              2021-01-30 00:31:54            2021-01-30 00:50:30   \n",
       "25%              2021-01-31 13:53:01            2021-01-31 14:04:22   \n",
       "50%              2021-02-01 07:58:59            2021-02-01 08:08:18   \n",
       "75%              2021-02-01 12:59:46            2021-02-01 13:10:30   \n",
       "max              2021-02-01 19:43:27            2021-02-01 19:44:02   \n",
       "std                              NaN                            NaN   \n",
       "\n",
       "           START_LAT      START_LNG        END_LAT        END_LNG  \\\n",
       "count  993653.000000  993653.000000  993653.000000  993653.000000   \n",
       "mean       22.586780     113.991960      22.587127     113.990852   \n",
       "min        22.419355     113.752173      22.422883     113.757401   \n",
       "25%        22.538336     113.912332      22.538296     113.911337   \n",
       "50%        22.563975     114.019187      22.564103     114.018763   \n",
       "75%        22.630253     114.057591      22.630617     114.057327   \n",
       "max        22.833852     114.466670      22.834831     114.466892   \n",
       "std         0.066907       0.100799       0.067394       0.101450   \n",
       "\n",
       "              during  \n",
       "count  993653.000000  \n",
       "mean      662.448009  \n",
       "min         1.000000  \n",
       "25%       296.000000  \n",
       "50%       474.000000  \n",
       "75%       775.000000  \n",
       "max      8998.000000  \n",
       "std       700.539822  "
      ]
     },
     "execution_count": 221,
     "metadata": {},
     "output_type": "execute_result"
    }
   ],
   "source": [
    "bike0.describe()"
   ]
  },
  {
   "cell_type": "code",
   "execution_count": 222,
   "metadata": {},
   "outputs": [
    {
     "data": {
      "text/plain": [
       "29424    2021-01-30 00:31:54\n",
       "5375     2021-01-30 00:46:35\n",
       "435154   2021-01-30 04:00:59\n",
       "163214   2021-01-30 05:04:31\n",
       "613224   2021-01-30 05:30:39\n",
       "33890    2021-01-30 06:53:45\n",
       "84643    2021-01-30 06:58:59\n",
       "41985    2021-01-30 07:06:11\n",
       "16375    2021-01-30 07:09:28\n",
       "378084   2021-01-30 07:15:47\n",
       "342875   2021-01-30 07:20:22\n",
       "342871   2021-01-30 07:20:22\n",
       "465082   2021-01-30 07:21:13\n",
       "35700    2021-01-30 07:27:22\n",
       "184890   2021-01-30 07:27:28\n",
       "3704     2021-01-30 07:27:51\n",
       "235347   2021-01-30 07:29:44\n",
       "470276   2021-01-30 07:34:02\n",
       "228640   2021-01-30 07:34:02\n",
       "72170    2021-01-30 07:34:21\n",
       "478990   2021-01-30 07:34:32\n",
       "120323   2021-01-30 07:35:31\n",
       "191972   2021-01-30 07:35:31\n",
       "142794   2021-01-30 07:37:54\n",
       "182779   2021-01-30 07:38:39\n",
       "104194   2021-01-30 07:40:48\n",
       "16858    2021-01-30 07:41:07\n",
       "22937    2021-01-30 07:48:09\n",
       "128028   2021-01-30 07:48:42\n",
       "329024   2021-01-30 07:50:17\n",
       "376394   2021-01-30 07:50:24\n",
       "376401   2021-01-30 07:50:24\n",
       "126427   2021-01-30 07:51:18\n",
       "104517   2021-01-30 07:57:49\n",
       "15104    2021-01-30 07:59:50\n",
       "163899   2021-01-30 07:59:50\n",
       "14517    2021-01-30 08:02:04\n",
       "15335    2021-01-30 08:03:21\n",
       "651208   2021-01-30 08:03:45\n",
       "191646   2021-01-30 08:05:53\n",
       "152517   2021-01-30 08:06:44\n",
       "212855   2021-01-30 08:09:15\n",
       "212862   2021-01-30 08:09:15\n",
       "553351   2021-01-30 08:10:36\n",
       "208296   2021-01-30 08:11:03\n",
       "142436   2021-01-30 08:11:03\n",
       "882748   2021-01-30 08:11:15\n",
       "882752   2021-01-30 08:11:15\n",
       "1685     2021-01-30 08:12:04\n",
       "168737   2021-01-30 08:12:07\n",
       "Name: START_TIME, dtype: datetime64[ns]"
      ]
     },
     "execution_count": 222,
     "metadata": {},
     "output_type": "execute_result"
    }
   ],
   "source": [
    "bike0['START_TIME'].sort_values().iloc[:50]"
   ]
  },
  {
   "cell_type": "code",
   "execution_count": 223,
   "metadata": {},
   "outputs": [
    {
     "data": {
      "text/plain": [
       "187363"
      ]
     },
     "execution_count": 223,
     "metadata": {},
     "output_type": "execute_result"
    }
   ],
   "source": [
    "bike0[bike0['START_TIME']<datetime.datetime(year=2021,month=1,day=31)].__len__()"
   ]
  },
  {
   "cell_type": "code",
   "execution_count": 224,
   "metadata": {},
   "outputs": [
    {
     "data": {
      "text/html": [
       "<div>\n",
       "<style scoped>\n",
       "    .dataframe tbody tr th:only-of-type {\n",
       "        vertical-align: middle;\n",
       "    }\n",
       "\n",
       "    .dataframe tbody tr th {\n",
       "        vertical-align: top;\n",
       "    }\n",
       "\n",
       "    .dataframe thead th {\n",
       "        text-align: right;\n",
       "    }\n",
       "</style>\n",
       "<table border=\"1\" class=\"dataframe\">\n",
       "  <thead>\n",
       "    <tr style=\"text-align: right;\">\n",
       "      <th></th>\n",
       "      <th>START_TIME</th>\n",
       "      <th>END_TIME</th>\n",
       "      <th>START_LAT</th>\n",
       "      <th>START_LNG</th>\n",
       "      <th>END_LAT</th>\n",
       "      <th>END_LNG</th>\n",
       "      <th>START_DAY</th>\n",
       "      <th>END_DAY</th>\n",
       "      <th>during</th>\n",
       "    </tr>\n",
       "  </thead>\n",
       "  <tbody>\n",
       "    <tr>\n",
       "      <th>0</th>\n",
       "      <td>2021-01-30 13:19:32</td>\n",
       "      <td>2021-01-30 13:23:18</td>\n",
       "      <td>22.632927</td>\n",
       "      <td>114.001862</td>\n",
       "      <td>22.628555</td>\n",
       "      <td>114.004077</td>\n",
       "      <td>2021-01-30</td>\n",
       "      <td>2021-01-30</td>\n",
       "      <td>226.0</td>\n",
       "    </tr>\n",
       "    <tr>\n",
       "      <th>1</th>\n",
       "      <td>2021-01-31 23:49:12</td>\n",
       "      <td>2021-01-31 23:54:37</td>\n",
       "      <td>22.582382</td>\n",
       "      <td>113.847527</td>\n",
       "      <td>22.578016</td>\n",
       "      <td>113.846317</td>\n",
       "      <td>2021-01-31</td>\n",
       "      <td>2021-01-31</td>\n",
       "      <td>325.0</td>\n",
       "    </tr>\n",
       "    <tr>\n",
       "      <th>2</th>\n",
       "      <td>2021-01-30 13:09:10</td>\n",
       "      <td>2021-01-30 13:23:24</td>\n",
       "      <td>22.644549</td>\n",
       "      <td>114.016379</td>\n",
       "      <td>22.634675</td>\n",
       "      <td>114.034157</td>\n",
       "      <td>2021-01-30</td>\n",
       "      <td>2021-01-30</td>\n",
       "      <td>854.0</td>\n",
       "    </tr>\n",
       "    <tr>\n",
       "      <th>3</th>\n",
       "      <td>2021-01-30 13:09:47</td>\n",
       "      <td>2021-01-30 13:20:45</td>\n",
       "      <td>22.515340</td>\n",
       "      <td>114.044467</td>\n",
       "      <td>22.517071</td>\n",
       "      <td>114.044605</td>\n",
       "      <td>2021-01-30</td>\n",
       "      <td>2021-01-30</td>\n",
       "      <td>658.0</td>\n",
       "    </tr>\n",
       "    <tr>\n",
       "      <th>4</th>\n",
       "      <td>2021-01-31 23:37:58</td>\n",
       "      <td>2021-01-31 23:59:47</td>\n",
       "      <td>22.540764</td>\n",
       "      <td>114.101330</td>\n",
       "      <td>22.542385</td>\n",
       "      <td>114.124560</td>\n",
       "      <td>2021-01-31</td>\n",
       "      <td>2021-01-31</td>\n",
       "      <td>1309.0</td>\n",
       "    </tr>\n",
       "  </tbody>\n",
       "</table>\n",
       "</div>"
      ],
      "text/plain": [
       "           START_TIME            END_TIME  START_LAT   START_LNG    END_LAT  \\\n",
       "0 2021-01-30 13:19:32 2021-01-30 13:23:18  22.632927  114.001862  22.628555   \n",
       "1 2021-01-31 23:49:12 2021-01-31 23:54:37  22.582382  113.847527  22.578016   \n",
       "2 2021-01-30 13:09:10 2021-01-30 13:23:24  22.644549  114.016379  22.634675   \n",
       "3 2021-01-30 13:09:47 2021-01-30 13:20:45  22.515340  114.044467  22.517071   \n",
       "4 2021-01-31 23:37:58 2021-01-31 23:59:47  22.540764  114.101330  22.542385   \n",
       "\n",
       "      END_LNG   START_DAY     END_DAY  during  \n",
       "0  114.004077  2021-01-30  2021-01-30   226.0  \n",
       "1  113.846317  2021-01-31  2021-01-31   325.0  \n",
       "2  114.034157  2021-01-30  2021-01-30   854.0  \n",
       "3  114.044605  2021-01-30  2021-01-30   658.0  \n",
       "4  114.124560  2021-01-31  2021-01-31  1309.0  "
      ]
     },
     "execution_count": 224,
     "metadata": {},
     "output_type": "execute_result"
    }
   ],
   "source": [
    "bike0['START_DAY'] = bike0['START_TIME'].dt.date\n",
    "bike0['END_DAY'] = bike0['END_TIME'].dt.date\n",
    "bike0.head()"
   ]
  },
  {
   "cell_type": "code",
   "execution_count": 225,
   "metadata": {},
   "outputs": [
    {
     "data": {
      "image/png": "[encoded data removed]",
      "text/plain": [
       "<Figure size 640x480 with 1 Axes>"
      ]
     },
     "metadata": {},
     "output_type": "display_data"
    }
   ],
   "source": [
    "plt.hist(bike0['START_DAY'], bins = 100)  # pd.Series.dt属性 histogam直方图\n",
    "plt.show()"
   ]
  },
  {
   "cell_type": "code",
   "execution_count": 226,
   "metadata": {},
   "outputs": [],
   "source": [
    "bike0['START_hour'] = bike0['START_TIME'].dt.hour.astype('int')\n",
    "# bike0['END_TIME'] = bike0['END_TIME'].dt.hour.astype('int')"
   ]
  },
  {
   "cell_type": "code",
   "execution_count": 229,
   "metadata": {},
   "outputs": [
    {
     "data": {
      "image/png": "[encoded data removed]",
      "text/plain": [
       "<Figure size 640x480 with 1 Axes>"
      ]
     },
     "metadata": {},
     "output_type": "display_data"
    }
   ],
   "source": [
    "plt.hist(bike0['START_hour'], bins = 20)  # pd.Series.dt属性 histogam直方图\n",
    "plt.show()"
   ]
  }
 ],
 "metadata": {
  "kernelspec": {
   "display_name": "GIS",
   "language": "python",
   "name": "python3"
  },
  "language_info": {
   "codemirror_mode": {
    "name": "ipython",
    "version": 3
   },
   "file_extension": ".py",
   "mimetype": "text/x-python",
   "name": "python",
   "nbconvert_exporter": "python",
   "pygments_lexer": "ipython3",
   "version": "3.10.11"
  }
 },
 "nbformat": 4,
 "nbformat_minor": 2
}
