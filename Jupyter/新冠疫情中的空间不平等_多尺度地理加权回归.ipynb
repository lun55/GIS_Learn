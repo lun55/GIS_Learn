{
 "cells": [
  {
   "cell_type": "code",
   "execution_count": 2,
   "metadata": {},
   "outputs": [],
   "source": [
    "import pandas as pd\n",
    "import numpy as np\n",
    "import geopandas as gpd ##空间数据处理\n",
    "import seaborn as sns\n",
    "import matplotlib.pyplot as plt ##绘图\n",
    "import statsmodels.api as sm ##统计\n",
    "import libpysal as ps\n",
    "from mgwr.gwr import GWR, MGWR ##空间回归\n",
    "from mgwr.sel_bw import Sel_BW\n",
    "import multiprocessing as mp ##并行计算\n",
    "import pickle"
   ]
  }
 ],
 "metadata": {
  "kernelspec": {
   "display_name": "GIS",
   "language": "python",
   "name": "python3"
  },
  "language_info": {
   "codemirror_mode": {
    "name": "ipython",
    "version": 3
   },
   "file_extension": ".py",
   "mimetype": "text/x-python",
   "name": "python",
   "nbconvert_exporter": "python",
   "pygments_lexer": "ipython3",
   "version": "3.10.11"
  }
 },
 "nbformat": 4,
 "nbformat_minor": 2
}
