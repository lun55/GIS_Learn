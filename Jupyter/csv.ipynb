{
 "cells": [
  {
   "cell_type": "code",
   "execution_count": 33,
   "metadata": {},
   "outputs": [
    {
     "name": "stdout",
     "output_type": "stream",
     "text": [
      "['9fb2d1ec6142ace4d7405b**********', '0755**', '2021/1/30 13:19', '2021/1/30 13:23', '22.63640929', '114.0133089', '22.63202908', '114.0155348']\n"
     ]
    }
   ],
   "source": [
    "import csv\n",
    "with open(r\"C:\\Users\\LMQ\\Desktop\\共享单车.csv\",encoding='utf-8',newline='') as c:\n",
    "    reader = csv.reader(c)\n",
    "    print(list(reader)[1])"
   ]
  },
  {
   "cell_type": "code",
   "execution_count": null,
   "metadata": {},
   "outputs": [],
   "source": [
    "import csv\n",
    "with open(r\"C:\\Users\\LMQ\\Desktop\\共享单车.csv\",encoding='utf-8',newline='') as c:  # newline=''\n",
    "    reader = csv.DictReader(c)\n",
    "    print(reader.fieldnames)\n",
    "    for r in reader:\n",
    "        print(r)"
   ]
  },
  {
   "cell_type": "code",
   "execution_count": 1,
   "metadata": {},
   "outputs": [],
   "source": [
    "import csv\n",
    "with open(r\"C:\\Users\\LMQ\\Desktop\\m.csv\",encoding='utf-8',newline='\\r\\n',mode='w') as c:  # newline='\\r\\n'\n",
    "    writer = csv.writer(c)\n",
    "    writer.writerow(['a','b','c','d'])\n",
    "    writer.writerows([[1,2,3,4],[245,6,9,0]])  # 写入多行"
   ]
  },
  {
   "cell_type": "code",
   "execution_count": 2,
   "metadata": {},
   "outputs": [
    {
     "data": {
      "text/plain": [
       "'a,b,c,d\\r\\r\\n1,2,3,4\\r\\r\\n245,6,9,0\\r\\r\\n'"
      ]
     },
     "execution_count": 2,
     "metadata": {},
     "output_type": "execute_result"
    }
   ],
   "source": [
    "with open(r\"C:\\Users\\LMQ\\Desktop\\m.csv\",encoding='utf-8',newline='',mode='r') as c:\n",
    "    reader = c.read()\n",
    "reader"
   ]
  }
 ],
 "metadata": {
  "kernelspec": {
   "display_name": "GIS",
   "language": "python",
   "name": "python3"
  },
  "language_info": {
   "codemirror_mode": {
    "name": "ipython",
    "version": 3
   },
   "file_extension": ".py",
   "mimetype": "text/x-python",
   "name": "python",
   "nbconvert_exporter": "python",
   "pygments_lexer": "ipython3",
   "version": "3.10.11"
  }
 },
 "nbformat": 4,
 "nbformat_minor": 2
}
